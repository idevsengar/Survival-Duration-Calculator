{
  "nbformat": 4,
  "nbformat_minor": 0,
  "metadata": {
    "colab": {
      "provenance": [],
      "authorship_tag": "ABX9TyOBqHJisGGx+5+8Ktqup3KR",
      "include_colab_link": true
    },
    "kernelspec": {
      "name": "python3",
      "display_name": "Python 3"
    },
    "language_info": {
      "name": "python"
    }
  },
  "cells": [
    {
      "cell_type": "markdown",
      "metadata": {
        "id": "view-in-github",
        "colab_type": "text"
      },
      "source": [
        "<a href=\"https://colab.research.google.com/github/idevsengar/Survival-Duration-Calculator/blob/main/Survival_Duration_Calculator_Codes.ipynb\" target=\"_parent\"><img src=\"https://colab.research.google.com/assets/colab-badge.svg\" alt=\"Open In Colab\"/></a>"
      ]
    },
    {
      "cell_type": "code",
      "execution_count": 6,
      "metadata": {
        "colab": {
          "base_uri": "https://localhost:8080/"
        },
        "id": "B2H9NCvpwD72",
        "outputId": "21f1db5e-698e-4619-e422-492e310828b1"
      },
      "outputs": [
        {
          "output_type": "stream",
          "name": "stdout",
          "text": [
            "Enter your age in years:\n",
            "10\n",
            "Enter the unit (e.g., months, weeks, days, hours, minutes, seconds, or their abbreviations m, w, d, h, min, s):\n",
            "months\n",
            "Your age in months is 120 months.\n"
          ]
        }
      ],
      "source": [
        "# Writing basic codes to calculate the age in different units\n",
        "# defining a function which takes input of age and unit then validate them and give the converted age.\n",
        "\n",
        "def age_cal():\n",
        "\n",
        "    # Taking user input\n",
        "    print(\"Enter your age in years:\")\n",
        "    try:\n",
        "        age_y = int(input())  # Convert input to an integer\n",
        "\n",
        "        # Checking if the age is valid\n",
        "        if age_y < 0:\n",
        "            print(\"Please enter a valid age as age cannot be negative.\")\n",
        "        elif age_y == 0:\n",
        "            print(\"You are just a newborn baby!\")\n",
        "        else:\n",
        "            print(\"Enter the unit (e.g., months, weeks, days, hours, minutes, seconds, or their abbreviations m, w, d, h, min, s):\")\n",
        "            unit = input()\n",
        "\n",
        "            # Check the unit and calculate age\n",
        "            if unit == \"m\" or unit.lower() == \"months\":\n",
        "                age = age_y * 12\n",
        "                print(f\"Your age in months is {age} months.\")\n",
        "            elif unit == \"w\" or unit.lower() == \"weeks\":\n",
        "                age = age_y * 52\n",
        "                print(f\"Your age in weeks is {age} weeks.\")\n",
        "            elif unit == \"d\" or unit.lower() == \"days\":\n",
        "                age = age_y * 365\n",
        "                print(f\"Your age in days is {age} days.\")\n",
        "            elif unit == \"h\" or unit.lower() == \"hours\":\n",
        "                age = age_y * 365 * 24\n",
        "                print(f\"Your age in hours is {age} hours.\")\n",
        "            elif unit == \"min\" or unit.lower() == \"minutes\":\n",
        "                age = age_y * 365 * 24 * 60\n",
        "                print(f\"Your age in minutes is {age} minutes.\")\n",
        "            elif unit == \"s\" or unit.lower() == \"seconds\":\n",
        "                age = age_y * 365 * 24 * 60 * 60\n",
        "                print(f\"Your age in seconds is {age} seconds.\")\n",
        "            else:\n",
        "                print(\"Please enter a valid unit (m, w, d, h, min, s, or their full names).\")\n",
        "    except ValueError:\n",
        "        print(\"Invalid input! Please enter a valid number for age.\")\n",
        "\n",
        "# Call the function\n",
        "age_cal()\n",
        "\n"
      ]
    }
  ]
}