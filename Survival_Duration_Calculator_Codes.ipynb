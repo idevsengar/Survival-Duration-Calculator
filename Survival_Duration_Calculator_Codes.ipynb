{
  "nbformat": 4,
  "nbformat_minor": 0,
  "metadata": {
    "colab": {
      "provenance": [],
      "authorship_tag": "ABX9TyOi0AvlnkiqcNzjdjRl0ay5",
      "include_colab_link": true
    },
    "kernelspec": {
      "name": "python3",
      "display_name": "Python 3"
    },
    "language_info": {
      "name": "python"
    }
  },
  "cells": [
    {
      "cell_type": "markdown",
      "metadata": {
        "id": "view-in-github",
        "colab_type": "text"
      },
      "source": [
        "<a href=\"https://colab.research.google.com/github/idevsengar/Survival-Duration-Calculator/blob/main/Survival_Duration_Calculator_Codes.ipynb\" target=\"_parent\"><img src=\"https://colab.research.google.com/assets/colab-badge.svg\" alt=\"Open In Colab\"/></a>"
      ]
    },
    {
      "cell_type": "code",
      "execution_count": 18,
      "metadata": {
        "colab": {
          "base_uri": "https://localhost:8080/"
        },
        "id": "B2H9NCvpwD72",
        "outputId": "4f83bde9-9d3c-4e8e-8652-3528f1dac1e5"
      },
      "outputs": [
        {
          "output_type": "stream",
          "name": "stdout",
          "text": [
            "Enter your age in years:\n",
            "-9\n",
            "Please enter a valid age as age cannot be negative.\n"
          ]
        }
      ],
      "source": [
        "# Writing basic codes to calculate the age in different units\n",
        "# defining a function which takes input of age and unit then validate them and give the converted age.\n",
        "\n",
        "def age_cal():\n",
        "\n",
        "    # Taking user input\n",
        "    print(\"Enter your age in years:\")\n",
        "    try:\n",
        "        age_y = int(input())  # Convert input to an integer\n",
        "\n",
        "        # Checking if the age is valid\n",
        "        if age_y < 0:\n",
        "            print(\"Please enter a valid age as age cannot be negative.\")\n",
        "        elif age_y == 0:\n",
        "            print(\"You are just a newborn baby!\")\n",
        "        else:\n",
        "            print(\"Enter the unit (e.g., months, weeks, days, hours, minutes, seconds, or their abbreviations m, w, d, h, min, s):\")\n",
        "            unit = input()\n",
        "\n",
        "            # Check the unit and calculate age\n",
        "            if unit == \"m\" or unit.lower() == \"months\":\n",
        "                age = age_y * 12\n",
        "                print(f\"You lived for {age} months.\")\n",
        "            elif unit == \"w\" or unit.lower() == \"weeks\":\n",
        "                age = age_y * 52\n",
        "                print(f\"You lived for  {age} weeks.\")\n",
        "            elif unit == \"d\" or unit.lower() == \"days\":\n",
        "                age = age_y * 365\n",
        "                print(f\"You lived for {age} days.\")\n",
        "            elif unit == \"h\" or unit.lower() == \"hours\":\n",
        "                age = age_y * 365 * 24\n",
        "                print(f\"You lived for {age} hours.\")\n",
        "            elif unit == \"min\" or unit.lower() == \"minutes\":\n",
        "                age = age_y * 365 * 24 * 60\n",
        "                print(f\"You lived for {age} minutes.\")\n",
        "            elif unit == \"s\" or unit.lower() == \"seconds\":\n",
        "                age = age_y * 365 * 24 * 60 * 60\n",
        "                print(f\"You lived for {age} seconds.\")\n",
        "            else:\n",
        "                print(\"Please enter a valid unit (m, w, d, h, min, s, or their full names).\")\n",
        "    except ValueError:\n",
        "        print(\"Invalid input! Please enter a valid number for age.\")\n",
        "\n",
        "# Call the function\n",
        "age_cal()\n",
        "\n"
      ]
    }
  ]
}